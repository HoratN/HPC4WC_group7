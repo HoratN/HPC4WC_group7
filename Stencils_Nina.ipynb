{
 "cells": [
  {
   "cell_type": "markdown",
   "metadata": {},
   "source": [
    "# Stencils"
   ]
  },
  {
   "cell_type": "markdown",
   "metadata": {},
   "source": [
    "### Timing"
   ]
  },
  {
   "cell_type": "code",
   "execution_count": 1,
   "metadata": {},
   "outputs": [],
   "source": [
    "import timeit\n",
    "import numpy as np\n",
    "import cupy as cp"
   ]
  },
  {
   "cell_type": "code",
   "execution_count": 2,
   "metadata": {},
   "outputs": [],
   "source": [
    "tic = timeit.default_timer()\n",
    "toc = timeit.default_timer()\n",
    "elapsed_time_work = toc - tic\n",
    "print(elapsed_time_work)"
   ]
  },
  {
   "cell_type": "code",
   "execution_count": 3,
   "metadata": {},
   "outputs": [],
   "source": [
    "#sinchronisation of CPU and GPU\n",
    "def get_time(sync=True):\n",
    "    if sync:\n",
    "        cp.cuda.Device().synchronize()\n",
    "    return timeit.default_timer()"
   ]
  },
  {
   "cell_type": "markdown",
   "metadata": {},
   "source": [
    "### pointwise stencil:\n",
    "notebook day 5: 01-GT4Py-sumdiff.ipynb\n",
    "-->comparison between Numpy, CuPy, GT4Py"
   ]
  },
  {
   "cell_type": "code",
   "execution_count": 4,
   "metadata": {},
   "outputs": [
    {
     "name": "stdout",
     "output_type": "stream",
     "text": [
      "192 ms ± 693 µs per loop (mean ± std. dev. of 7 runs, 1 loop each)\n"
     ]
    }
   ],
   "source": [
    "import numpy as np\n",
    "\n",
    "shape = (512, 512, 128)\n",
    "\n",
    "def f_numpy(a, b, c, d):\n",
    "    d[...] = a + b - c\n",
    "    \n",
    "a = np.random.rand(*shape)\n",
    "b = np.random.rand(*shape)\n",
    "c = np.random.rand(*shape)\n",
    "d = np.empty_like(a)\n",
    "\n",
    "%timeit f_numpy(a, b, c, d)"
   ]
  },
  {
   "cell_type": "code",
   "execution_count": null,
   "metadata": {},
   "outputs": [],
   "source": [
    "##simpler pointwise stencil in GT4Py\n",
    "def to_one_defs(a: gtscript.Field[float]):\n",
    "    # TODO: write the stencil definition\n",
    "    from __gtscript__ import PARALLEL, computation, interval\n",
    "    \n",
    "    with computation(PARALLEL), interval(...):\n",
    "        a=1"
   ]
  },
  {
   "cell_type": "code",
   "execution_count": 10,
   "metadata": {},
   "outputs": [
    {
     "name": "stdout",
     "output_type": "stream",
     "text": [
      "25 ms ± 25.1 µs per loop (mean ± std. dev. of 7 runs, 10 loops each)\n"
     ]
    }
   ],
   "source": [
    "#in numpy\n",
    "import numpy as np\n",
    "\n",
    "shape = (512, 512, 128)\n",
    "\n",
    "def f_numpy(a):\n",
    "    a[...] = 1\n",
    "    \n",
    "a = np.random.rand(*shape)\n",
    "\n",
    "%timeit f_numpy(a)\n",
    "#a.view()"
   ]
  },
  {
   "cell_type": "markdown",
   "metadata": {},
   "source": [
    "### 1D-stencil: Fibonacci\n",
    "notebook day 5: 03-GT4Py-concepts.ipynb"
   ]
  },
  {
   "cell_type": "code",
   "execution_count": null,
   "metadata": {},
   "outputs": [],
   "source": [
    "#GT4Py\n",
    "def fibonacci_defs(inout_field: gtscript.Field[float]):\n",
    "    from __gtscript__ import BACKWARD, FORWARD, PARALLEL, computation, interval\n",
    "    \n",
    "    with computation(FORWARD):\n",
    "        with interval(0, 2):\n",
    "            inout_field = 1.0\n",
    "        with interval(2, None):\n",
    "            inout_field = inout_field[0, 0, -1] + inout_field[0, 0, -2]"
   ]
  },
  {
   "cell_type": "code",
   "execution_count": null,
   "metadata": {},
   "outputs": [],
   "source": [
    "fibonacci =  gtscript.stencil(definition=fibonacci_defs, backend=\"gtmc\")"
   ]
  },
  {
   "cell_type": "code",
   "execution_count": 26,
   "metadata": {},
   "outputs": [
    {
     "name": "stdout",
     "output_type": "stream",
     "text": [
      "375 µs ± 83.3 µs per loop (mean ± std. dev. of 7 runs, 1000 loops each)\n"
     ]
    }
   ],
   "source": [
    "#numpy:\n",
    "#in numpy\n",
    "import numpy as np\n",
    "\n",
    "shape = (512,512 ,128)\n",
    "\n",
    "def fibonacci_numpy(a):\n",
    "    a[:,:,0] = 1.0\n",
    "    a[:,:,1] = 1.0\n",
    "    for i in np.arange(2,a.shape[2]):\n",
    "        a[:,:,i] =  a[:,:,i-1] +  a[:,:,i-2]\n",
    "    \n",
    "a = np.zeros(shape)\n",
    "\n",
    "%timeit fibonacci_numpy(a)\n",
    "#a.view()"
   ]
  },
  {
   "cell_type": "markdown",
   "metadata": {},
   "source": [
    "### 2D-stencil: Laplace\n",
    "notebook day 5: 02-GT4Py-laplacian-->-->comparison between Numpy, CuPy (C-style), CuPy (F-style), GT4Py"
   ]
  },
  {
   "cell_type": "code",
   "execution_count": 5,
   "metadata": {},
   "outputs": [
    {
     "name": "stdout",
     "output_type": "stream",
     "text": [
      "300 ms ± 413 µs per loop (mean ± std. dev. of 7 runs, 1 loop each)\n"
     ]
    }
   ],
   "source": [
    "import numpy as np\n",
    "\n",
    "shape = (512, 512, 128)\n",
    "\n",
    "def lap_numpy(phi, lap):\n",
    "    lap[1:-1, 1:-1] = (\n",
    "        - 4. * phi[1:-1, 1:-1]\n",
    "        +      phi[ :-2, 1:-1]\n",
    "        +      phi[  2:, 1:-1]\n",
    "        +      phi[1:-1,  :-2]\n",
    "        +      phi[1:-1,   2:]\n",
    "    )\n",
    "    \n",
    "phi = np.random.rand(*shape)\n",
    "lap = np.empty_like(phi)\n",
    "\n",
    "%timeit lap_numpy(phi, lap)"
   ]
  },
  {
   "cell_type": "code",
   "execution_count": null,
   "metadata": {},
   "outputs": [],
   "source": []
  },
  {
   "cell_type": "markdown",
   "metadata": {},
   "source": [
    "from day 1: stencil2d-counter.F90.-->2D stencil"
   ]
  },
  {
   "cell_type": "code",
   "execution_count": null,
   "metadata": {},
   "outputs": [],
   "source": [
    "subroutine laplacian( field, lap, num_halo, extend, increase_counters )\n",
    "        implicit none\n",
    "            \n",
    "        ! argument\n",
    "        real (kind=wp), intent(in) :: field(:, :, :)\n",
    "        real (kind=wp), intent(inout) :: lap(:, :, :)\n",
    "        integer, intent(in) :: num_halo, extend\n",
    "        logical, intent(in) :: increase_counters\n",
    "        \n",
    "        ! local\n",
    "        integer :: i, j, k\n",
    "            \n",
    "        do k = 1, nz\n",
    "        do j = 1 + num_halo - extend, ny + num_halo + extend\n",
    "        do i = 1 + num_halo - extend, nx + num_halo + extend\n",
    "            lap(i, j, k) = -4._wp * field(i, j, k)      &\n",
    "                + field(i - 1, j, k) + field(i + 1, j, k)  &\n",
    "                + field(i, j - 1, k) + field(i, j + 1, k)\n",
    "            ! TODO\n",
    "        end do\n",
    "        end do\n",
    "        end do\n",
    "\n",
    "    end subroutine laplacian\n"
   ]
  },
  {
   "cell_type": "code",
   "execution_count": null,
   "metadata": {},
   "outputs": [],
   "source": [
    "size =10\n",
    "for backend in zip([np, cp], [\"numpy\", \"cupy\"]):\n",
    "\n",
    "    #simple stencil\n",
    "    phi = xp.random.rand(size)\n",
    "    nan = xp.array( [xp.nan] )\n",
    "    phi= xp.concatenate( (nan, phi, nan) )\n",
    "    phi_new = xp.empty_like(phi)\n",
    "    d_x = 1\n",
    "\n",
    "    #i=np.arange(...) would also be vectorized\n",
    "    tic = get_time()\n",
    "    phi_new=(phi[:-2]+2*phi[1:-1] +phi[2:])/d_x\n",
    "    elapsed_time_simple = get_time() - tic\n",
    "    print(phi_new)\n",
    "\n",
    "    #upstream scheme\n",
    "    u=xp.random.rand(size)-xp.repeat(0.5,size)\n",
    "    phi = xp.random.rand(size)\n",
    "    nan = xp.array( [xp.nan] )\n",
    "    phi= xp.concatenate( (nan, phi, nan) )\n",
    "    phi_new = xp.empty_like(phi)\n",
    "    d_x = 1\n",
    "    phi_new=xp.where(u>=0, u*(phi[1:-1]-phi[:-2])/d_x, u*(phi[0:-2]-phi[1:-1])/d_x)#[u<0], [u>=0]*\n",
    "    print(phi)\n",
    "    print(u)\n",
    "    print(phi_new)\n",
    "\n",
    "    print(\n",
    "        backend, elapsed_time_simple\n",
    "    ) "
   ]
  },
  {
   "cell_type": "code",
   "execution_count": null,
   "metadata": {},
   "outputs": [],
   "source": []
  }
 ],
 "metadata": {
  "kernelspec": {
   "display_name": "HPC4WC_kernel",
   "language": "python",
   "name": "hpc4wc_kernel"
  },
  "language_info": {
   "codemirror_mode": {
    "name": "ipython",
    "version": 3
   },
   "file_extension": ".py",
   "mimetype": "text/x-python",
   "name": "python",
   "nbconvert_exporter": "python",
   "pygments_lexer": "ipython3",
   "version": "3.6.5"
  }
 },
 "nbformat": 4,
 "nbformat_minor": 4
}
