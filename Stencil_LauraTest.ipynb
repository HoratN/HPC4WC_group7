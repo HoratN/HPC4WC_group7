{
 "cells": [
  {
   "cell_type": "code",
   "execution_count": 5,
   "metadata": {},
   "outputs": [],
   "source": [
    "import numpy as np\n",
    "import time\n",
    "import matplotlib.pyplot as plt\n",
    "\n",
    "from functions.create_field import get_random_field\n",
    "from functions.add_halo_points import add_halo_points\n",
    "from functions.update_halo import update_halo\n",
    "\n",
    "from stencil2d_oliver import laplacian, apply_diffusion\n",
    "\n",
    "\n"
   ]
  },
  {
   "cell_type": "code",
   "execution_count": 29,
   "metadata": {},
   "outputs": [],
   "source": [
    "#define field properties\n",
    "dim = 3\n",
    "nx = 10\n",
    "ny = 10\n",
    "nz = 10\n",
    "num_halo = 1\n",
    "alpha = 0.3\n",
    "num_iter = 100"
   ]
  },
  {
   "cell_type": "code",
   "execution_count": 28,
   "metadata": {},
   "outputs": [
    {
     "name": "stdout",
     "output_type": "stream",
     "text": [
      "dim = 3; nx = 10; ny = 10; nz = 10\n",
      "Elapsed time for work = 0.004807949066162109 s wit 100 iterations\n"
     ]
    }
   ],
   "source": [
    "#calculate time for 2d stencil oliver\n",
    "\n",
    "in_field = get_random_field(dim, nx, ny, nz)\n",
    "in_field = add_halo_points(dim,in_field,num_halo)\n",
    "update_halo(dim,in_field, num_halo)\n",
    "out_field = np.copy( in_field )\n",
    "\n",
    "\n",
    "# warmup caches\n",
    "apply_diffusion( in_field, out_field, alpha, num_halo )\n",
    "\n",
    "# time the actual work\n",
    "tic = time.time()\n",
    "apply_diffusion( in_field, out_field, alpha, num_halo, num_iter=num_iter )\n",
    "toc = time.time()\n",
    "    \n",
    "print(\"Elapsed time for work = {} s wit {} iterations\".format(toc - tic,num_iter) )\n",
    "\n",
    "out_field=update_halo(dim, out_field, num_halo)"
   ]
  },
  {
   "cell_type": "code",
   "execution_count": 24,
   "metadata": {},
   "outputs": [
    {
     "data": {
      "text/plain": [
       "(12, 12, 12)"
      ]
     },
     "execution_count": 24,
     "metadata": {},
     "output_type": "execute_result"
    }
   ],
   "source": [
    "out_field.shape"
   ]
  },
  {
   "cell_type": "markdown",
   "metadata": {},
   "source": [
    "Elapsed time for work = 0.0008709430694580078 s wit 10 iterations\n",
    "\n",
    "Elapsed time for work = 0.004807949066162109 s wit 100 iterations"
   ]
  },
  {
   "cell_type": "code",
   "execution_count": null,
   "metadata": {},
   "outputs": [],
   "source": [
    "#Leapfrog stencil\n",
    "\n",
    "in_field = get_random_field(dim, nx, ny, nz)\n",
    "in_field = add_halo_points(dim,in_field,num_halo)\n",
    "update_halo(dim,in_field, num_halo)\n",
    "out_field = np.copy( in_field )\n",
    "u = np.copy( in_field )\n",
    "v = np.copy( in_field )\n",
    "\n",
    "tic = time.time()\n",
    "outfield_dx = (phi_now[1, 0, 0] * u[1, 0, 0] - phi_now[-1, 0, 0] * u[-1, 0, 0]) / (2.0 * dx)\n",
    "dphi_dy = (phi_now[0, 1, 0] * v[0, 1, 0] - phi_now[-1, 0, 0] * u[-1, 0, 0]) / (2.0 * dx)\n",
    "phi_new = phi_old[0, 0, 0] - 2.0 * dt * (dphi_dx[0, 0, 0] + dphi_dy[0, 0, 0])\n",
    "toc = time.time()\n",
    "\n",
    "num_iter =1\n",
    "print(\"Elapsed time for work = {} s wit {} iterations\".format(toc - tic,num_iter) )\n"
   ]
  }
 ],
 "metadata": {
  "kernelspec": {
   "display_name": "Python 3",
   "language": "python",
   "name": "python3"
  },
  "language_info": {
   "codemirror_mode": {
    "name": "ipython",
    "version": 3
   },
   "file_extension": ".py",
   "mimetype": "text/x-python",
   "name": "python",
   "nbconvert_exporter": "python",
   "pygments_lexer": "ipython3",
   "version": "3.6.5"
  }
 },
 "nbformat": 4,
 "nbformat_minor": 4
}
