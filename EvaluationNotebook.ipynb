{
 "cells": [
  {
   "cell_type": "markdown",
   "metadata": {},
   "source": [
    "# Notebook for stencil validation and timing"
   ]
  },
  {
   "cell_type": "markdown",
   "metadata": {},
   "source": [
    "Jan, Nina & Laura"
   ]
  },
  {
   "cell_type": "code",
   "execution_count": 1,
   "metadata": {},
   "outputs": [],
   "source": [
    "import pandas as pd\n",
    "import os\n",
    "import seaborn as sns\n",
    "import matplotlib.pyplot as plt\n",
    "import subprocess"
   ]
  },
  {
   "cell_type": "markdown",
   "metadata": {},
   "source": [
    "## Validation\n",
    "### Create testfields\n",
    "We create one testfield per stencil_name (option --create_field = True). After creation the fields are saved in the folder testfields and can be accessed by the option --field_name."
   ]
  },
  {
   "cell_type": "code",
   "execution_count": 13,
   "metadata": {},
   "outputs": [],
   "source": [
    "stencil_name_list = [\n",
    "        #\"test\",\n",
    "        #\"laplacian1d\", \n",
    "        #\"laplacian2d\",\n",
    "        #\"laplacian3d\",\n",
    "        #\"FMA\",\n",
    "       \"lapoflap1d\",\n",
    "        \"lapoflap2d\",\n",
    "        \"lapoflap3d\",\n",
    "        \"test_gt4py\",\n",
    "    ]\n",
    "\n",
    "backend_list = [#\"numpy\", \n",
    "                #\"numba_vector_function\", \n",
    "                #\"numba_vector_decorator\", \n",
    "                \"numba_loop\", \n",
    "                \"numba_stencil\", \n",
    "                \"gt4py\"]\n"
   ]
  },
  {
   "cell_type": "code",
   "execution_count": 3,
   "metadata": {},
   "outputs": [
    {
     "name": "stdout",
     "output_type": "stream",
     "text": [
      "New output field test saved.\n",
      "\n",
      "New output field laplacian1d saved.\n",
      "\n",
      "New output field laplacian2d saved.\n",
      "\n",
      "New output field laplacian3d saved.\n",
      "\n",
      "New output field FMA saved.\n",
      "\n",
      "New output field lapoflap1d saved.\n",
      "\n",
      "New output field lapoflap2d saved.\n",
      "\n",
      "New output field lapoflap3d saved.\n",
      "\n",
      "\n"
     ]
    }
   ],
   "source": [
    "#if somebody knows how to remove the b and \\n \n",
    "for x in stencil_name_list:\n",
    "    \n",
    "    bashCommand=f\"python3 stencil_main_validation.py --nx 32 --ny 32 --nz 32 --stencil_name {x} --backend numpy --create_field True --field_name {x}\"\n",
    "    process = subprocess.Popen(bashCommand.split(), stdout=subprocess.PIPE,stderr=subprocess.PIPE)\n",
    "    output, error = process.communicate()\n",
    "    \n",
    "    print(output.decode(\"utf-8\"))# <class 'str'>\n",
    "    \n",
    "    \n",
    "    "
   ]
  },
  {
   "cell_type": "code",
   "execution_count": 14,
   "metadata": {},
   "outputs": [
    {
     "name": "stdout",
     "output_type": "stream",
     "text": [
      "lapoflap1d :\n",
      "Field validation for stencil lapoflap1d in backend numba_loop is: True.\n",
      "\n",
      "Field validation for stencil lapoflap1d in backend numba_stencil is: True.\n",
      "\n",
      "\n",
      "lapoflap2d :\n",
      "Field validation for stencil lapoflap2d in backend numba_loop is: True.\n",
      "\n",
      "Field validation for stencil lapoflap2d in backend numba_stencil is: True.\n",
      "\n",
      "Field validation for stencil lapoflap2d in backend gt4py is: False.\n",
      "\n",
      "lapoflap3d :\n",
      "Field validation for stencil lapoflap3d in backend numba_loop is: True.\n",
      "\n",
      "Field validation for stencil lapoflap3d in backend numba_stencil is: True.\n",
      "\n",
      "Field validation for stencil lapoflap3d in backend gt4py is: False.\n",
      "\n",
      "test_gt4py :\n",
      "\n",
      "\n",
      "\n"
     ]
    }
   ],
   "source": [
    "for x in stencil_name_list:\n",
    "    print(x,':')\n",
    "    for y in backend_list:\n",
    "        bashCommand=f\"python3 stencil_main_validation.py --nx 32 --ny 32 --nz 32 --stencil_name {x} --backend {y} --create_field False --field_name {x}\"\n",
    "        process = subprocess.Popen(bashCommand.split(), stdout=subprocess.PIPE)\n",
    "        output, error = process.communicate()\n",
    "        print(output.decode(\"utf-8\"))"
   ]
  },
  {
   "cell_type": "markdown",
   "metadata": {},
   "source": [
    "### Execute Stencil computation for evaluation\n",
    "In this section the different stencils for the different domain sizes are calculated.\n"
   ]
  },
  {
   "cell_type": "code",
   "execution_count": 87,
   "metadata": {},
   "outputs": [
    {
     "name": "stdout",
     "output_type": "stream",
     "text": [
      "Total worktime: 0.001186370849609375 s. In 50 iteration(s) the average lapsed time for one run is 2.37274169921875e-05 +/- 2.916116500383687e-05 s\n",
      "The average elapsed time of the first 10 run is 4.000663757324219e-05 and of the last 10 values is 1.971721649169922e-05\n",
      "Result of field validation is: True\n",
      "Runtime development saved in dataframe.\n",
      "\u001b[0m"
     ]
    }
   ],
   "source": [
    "#Test Stencil 32 x 32 x 32\n",
    "!python3 stencil_main.py --nx 32 --ny 32 --nz 32 --num_iter 50 --stencil_name test --backend numpy --df_name test --field_name test32 --create_field False --save_runtime True \n"
   ]
  },
  {
   "cell_type": "markdown",
   "metadata": {},
   "source": [
    "### Read out the dataframe and plot results\n",
    "The program saves the evaluation data into a pandas dataframe (Name is defined with the option --df_name). Subsequently the df can be accessed for further processing within a jupyter notebook."
   ]
  },
  {
   "cell_type": "code",
   "execution_count": 89,
   "metadata": {},
   "outputs": [
    {
     "data": {
      "text/html": [
       "<div>\n",
       "<style scoped>\n",
       "    .dataframe tbody tr th:only-of-type {\n",
       "        vertical-align: middle;\n",
       "    }\n",
       "\n",
       "    .dataframe tbody tr th {\n",
       "        vertical-align: top;\n",
       "    }\n",
       "\n",
       "    .dataframe thead th {\n",
       "        text-align: right;\n",
       "    }\n",
       "</style>\n",
       "<table border=\"1\" class=\"dataframe\">\n",
       "  <thead>\n",
       "    <tr style=\"text-align: right;\">\n",
       "      <th></th>\n",
       "      <th>stencil_name</th>\n",
       "      <th>backend</th>\n",
       "      <th>nx</th>\n",
       "      <th>ny</th>\n",
       "      <th>nz</th>\n",
       "      <th>valid</th>\n",
       "      <th>field_name</th>\n",
       "      <th>num_iter</th>\n",
       "      <th>time_total</th>\n",
       "      <th>run_avg</th>\n",
       "      <th>run_stdev</th>\n",
       "      <th>run_first10</th>\n",
       "      <th>run_last10</th>\n",
       "    </tr>\n",
       "  </thead>\n",
       "  <tbody>\n",
       "    <tr>\n",
       "      <th>0</th>\n",
       "      <td>test</td>\n",
       "      <td>numpy</td>\n",
       "      <td>32</td>\n",
       "      <td>32</td>\n",
       "      <td>32</td>\n",
       "      <td>True</td>\n",
       "      <td>test32</td>\n",
       "      <td>50</td>\n",
       "      <td>0.001084</td>\n",
       "      <td>0.000022</td>\n",
       "      <td>0.000024</td>\n",
       "      <td>0.000034</td>\n",
       "      <td>0.000017</td>\n",
       "    </tr>\n",
       "    <tr>\n",
       "      <th>1</th>\n",
       "      <td>test</td>\n",
       "      <td>numpy</td>\n",
       "      <td>32</td>\n",
       "      <td>32</td>\n",
       "      <td>32</td>\n",
       "      <td>True</td>\n",
       "      <td>test32</td>\n",
       "      <td>50</td>\n",
       "      <td>0.001171</td>\n",
       "      <td>0.000023</td>\n",
       "      <td>0.000028</td>\n",
       "      <td>0.000039</td>\n",
       "      <td>0.000020</td>\n",
       "    </tr>\n",
       "    <tr>\n",
       "      <th>2</th>\n",
       "      <td>test</td>\n",
       "      <td>numbajit</td>\n",
       "      <td>32</td>\n",
       "      <td>32</td>\n",
       "      <td>32</td>\n",
       "      <td>True</td>\n",
       "      <td>test32</td>\n",
       "      <td>50</td>\n",
       "      <td>0.000979</td>\n",
       "      <td>0.000020</td>\n",
       "      <td>0.000026</td>\n",
       "      <td>0.000036</td>\n",
       "      <td>0.000016</td>\n",
       "    </tr>\n",
       "    <tr>\n",
       "      <th>3</th>\n",
       "      <td>test</td>\n",
       "      <td>numbajit</td>\n",
       "      <td>32</td>\n",
       "      <td>32</td>\n",
       "      <td>32</td>\n",
       "      <td>True</td>\n",
       "      <td>test32</td>\n",
       "      <td>50</td>\n",
       "      <td>0.000950</td>\n",
       "      <td>0.000019</td>\n",
       "      <td>0.000022</td>\n",
       "      <td>0.000032</td>\n",
       "      <td>0.000016</td>\n",
       "    </tr>\n",
       "    <tr>\n",
       "      <th>4</th>\n",
       "      <td>test</td>\n",
       "      <td>numbajit</td>\n",
       "      <td>32</td>\n",
       "      <td>32</td>\n",
       "      <td>32</td>\n",
       "      <td>True</td>\n",
       "      <td>test32</td>\n",
       "      <td>50</td>\n",
       "      <td>0.001268</td>\n",
       "      <td>0.000025</td>\n",
       "      <td>0.000043</td>\n",
       "      <td>0.000052</td>\n",
       "      <td>0.000018</td>\n",
       "    </tr>\n",
       "    <tr>\n",
       "      <th>5</th>\n",
       "      <td>test</td>\n",
       "      <td>numbajit</td>\n",
       "      <td>32</td>\n",
       "      <td>32</td>\n",
       "      <td>32</td>\n",
       "      <td>True</td>\n",
       "      <td>test32</td>\n",
       "      <td>50</td>\n",
       "      <td>0.000957</td>\n",
       "      <td>0.000019</td>\n",
       "      <td>0.000024</td>\n",
       "      <td>0.000033</td>\n",
       "      <td>0.000016</td>\n",
       "    </tr>\n",
       "    <tr>\n",
       "      <th>6</th>\n",
       "      <td>test</td>\n",
       "      <td>numpy</td>\n",
       "      <td>32</td>\n",
       "      <td>32</td>\n",
       "      <td>32</td>\n",
       "      <td>True</td>\n",
       "      <td>test32</td>\n",
       "      <td>50</td>\n",
       "      <td>0.001186</td>\n",
       "      <td>0.000024</td>\n",
       "      <td>0.000029</td>\n",
       "      <td>0.000040</td>\n",
       "      <td>0.000020</td>\n",
       "    </tr>\n",
       "  </tbody>\n",
       "</table>\n",
       "</div>"
      ],
      "text/plain": [
       "  stencil_name   backend  nx  ny  nz valid field_name num_iter  time_total  \\\n",
       "0         test     numpy  32  32  32  True     test32       50    0.001084   \n",
       "1         test     numpy  32  32  32  True     test32       50    0.001171   \n",
       "2         test  numbajit  32  32  32  True     test32       50    0.000979   \n",
       "3         test  numbajit  32  32  32  True     test32       50    0.000950   \n",
       "4         test  numbajit  32  32  32  True     test32       50    0.001268   \n",
       "5         test  numbajit  32  32  32  True     test32       50    0.000957   \n",
       "6         test     numpy  32  32  32  True     test32       50    0.001186   \n",
       "\n",
       "    run_avg  run_stdev  run_first10  run_last10  \n",
       "0  0.000022   0.000024     0.000034    0.000017  \n",
       "1  0.000023   0.000028     0.000039    0.000020  \n",
       "2  0.000020   0.000026     0.000036    0.000016  \n",
       "3  0.000019   0.000022     0.000032    0.000016  \n",
       "4  0.000025   0.000043     0.000052    0.000018  \n",
       "5  0.000019   0.000024     0.000033    0.000016  \n",
       "6  0.000024   0.000029     0.000040    0.000020  "
      ]
     },
     "execution_count": 89,
     "metadata": {},
     "output_type": "execute_result"
    }
   ],
   "source": [
    "df_name = \"test\" #Name of df to evaluate\n",
    "df = pd.read_pickle(\"eval/{}_result.pkl\".format(df_name))\n",
    "df.head(10)"
   ]
  },
  {
   "cell_type": "code",
   "execution_count": 8,
   "metadata": {},
   "outputs": [
    {
     "data": {
      "text/html": [
       "<div>\n",
       "<style scoped>\n",
       "    .dataframe tbody tr th:only-of-type {\n",
       "        vertical-align: middle;\n",
       "    }\n",
       "\n",
       "    .dataframe tbody tr th {\n",
       "        vertical-align: top;\n",
       "    }\n",
       "\n",
       "    .dataframe thead th {\n",
       "        text-align: right;\n",
       "    }\n",
       "</style>\n",
       "<table border=\"1\" class=\"dataframe\">\n",
       "  <thead>\n",
       "    <tr style=\"text-align: right;\">\n",
       "      <th></th>\n",
       "      <th>stencil_name</th>\n",
       "      <th>backend</th>\n",
       "      <th>nx</th>\n",
       "      <th>ny</th>\n",
       "      <th>nz</th>\n",
       "      <th>valid</th>\n",
       "      <th>field_name</th>\n",
       "      <th>num_iter</th>\n",
       "      <th>time_total</th>\n",
       "      <th>run_avg</th>\n",
       "      <th>run_stdev</th>\n",
       "      <th>run_first10</th>\n",
       "      <th>run_last10</th>\n",
       "      <th>gt4py_backend</th>\n",
       "      <th>numba_parallel</th>\n",
       "    </tr>\n",
       "  </thead>\n",
       "  <tbody>\n",
       "    <tr>\n",
       "      <th>33</th>\n",
       "      <td>lapoflap1d</td>\n",
       "      <td>numpy</td>\n",
       "      <td>32</td>\n",
       "      <td>32</td>\n",
       "      <td>32</td>\n",
       "      <td>-</td>\n",
       "      <td>test</td>\n",
       "      <td>5</td>\n",
       "      <td>0.000743</td>\n",
       "      <td>0.000149</td>\n",
       "      <td>0.000002</td>\n",
       "      <td>NaN</td>\n",
       "      <td>NaN</td>\n",
       "      <td>NaN</td>\n",
       "      <td>NaN</td>\n",
       "    </tr>\n",
       "    <tr>\n",
       "      <th>34</th>\n",
       "      <td>lapoflap1d</td>\n",
       "      <td>numba_loop</td>\n",
       "      <td>32</td>\n",
       "      <td>32</td>\n",
       "      <td>32</td>\n",
       "      <td>-</td>\n",
       "      <td>test</td>\n",
       "      <td>5</td>\n",
       "      <td>0.001079</td>\n",
       "      <td>0.000216</td>\n",
       "      <td>0.000045</td>\n",
       "      <td>NaN</td>\n",
       "      <td>NaN</td>\n",
       "      <td>NaN</td>\n",
       "      <td>NaN</td>\n",
       "    </tr>\n",
       "    <tr>\n",
       "      <th>35</th>\n",
       "      <td>lapoflap2d</td>\n",
       "      <td>numba_loop</td>\n",
       "      <td>32</td>\n",
       "      <td>32</td>\n",
       "      <td>32</td>\n",
       "      <td>-</td>\n",
       "      <td>test</td>\n",
       "      <td>5</td>\n",
       "      <td>0.003030</td>\n",
       "      <td>0.000606</td>\n",
       "      <td>0.000002</td>\n",
       "      <td>NaN</td>\n",
       "      <td>NaN</td>\n",
       "      <td>NaN</td>\n",
       "      <td>NaN</td>\n",
       "    </tr>\n",
       "    <tr>\n",
       "      <th>36</th>\n",
       "      <td>lapoflap3d</td>\n",
       "      <td>numba_loop</td>\n",
       "      <td>32</td>\n",
       "      <td>32</td>\n",
       "      <td>32</td>\n",
       "      <td>-</td>\n",
       "      <td>test</td>\n",
       "      <td>5</td>\n",
       "      <td>0.003760</td>\n",
       "      <td>0.000752</td>\n",
       "      <td>0.000003</td>\n",
       "      <td>NaN</td>\n",
       "      <td>NaN</td>\n",
       "      <td>NaN</td>\n",
       "      <td>NaN</td>\n",
       "    </tr>\n",
       "    <tr>\n",
       "      <th>37</th>\n",
       "      <td>laplacian3d</td>\n",
       "      <td>numba_loop</td>\n",
       "      <td>32</td>\n",
       "      <td>32</td>\n",
       "      <td>32</td>\n",
       "      <td>-</td>\n",
       "      <td>test</td>\n",
       "      <td>5</td>\n",
       "      <td>0.000232</td>\n",
       "      <td>0.000046</td>\n",
       "      <td>0.000003</td>\n",
       "      <td>NaN</td>\n",
       "      <td>NaN</td>\n",
       "      <td>NaN</td>\n",
       "      <td>NaN</td>\n",
       "    </tr>\n",
       "    <tr>\n",
       "      <th>38</th>\n",
       "      <td>laplacian2d</td>\n",
       "      <td>numba_loop</td>\n",
       "      <td>32</td>\n",
       "      <td>32</td>\n",
       "      <td>32</td>\n",
       "      <td>-</td>\n",
       "      <td>test</td>\n",
       "      <td>5</td>\n",
       "      <td>0.001768</td>\n",
       "      <td>0.000354</td>\n",
       "      <td>0.000010</td>\n",
       "      <td>NaN</td>\n",
       "      <td>NaN</td>\n",
       "      <td>NaN</td>\n",
       "      <td>NaN</td>\n",
       "    </tr>\n",
       "    <tr>\n",
       "      <th>39</th>\n",
       "      <td>laplacian2d</td>\n",
       "      <td>numba_loop</td>\n",
       "      <td>32</td>\n",
       "      <td>32</td>\n",
       "      <td>32</td>\n",
       "      <td>True</td>\n",
       "      <td>test</td>\n",
       "      <td>5</td>\n",
       "      <td>0.001578</td>\n",
       "      <td>0.000316</td>\n",
       "      <td>0.000002</td>\n",
       "      <td>NaN</td>\n",
       "      <td>NaN</td>\n",
       "      <td>NaN</td>\n",
       "      <td>NaN</td>\n",
       "    </tr>\n",
       "    <tr>\n",
       "      <th>40</th>\n",
       "      <td>laplacian2d</td>\n",
       "      <td>numba_vector_function</td>\n",
       "      <td>32</td>\n",
       "      <td>32</td>\n",
       "      <td>32</td>\n",
       "      <td>True</td>\n",
       "      <td>test</td>\n",
       "      <td>5</td>\n",
       "      <td>0.001786</td>\n",
       "      <td>0.000357</td>\n",
       "      <td>0.000012</td>\n",
       "      <td>NaN</td>\n",
       "      <td>NaN</td>\n",
       "      <td>NaN</td>\n",
       "      <td>NaN</td>\n",
       "    </tr>\n",
       "    <tr>\n",
       "      <th>41</th>\n",
       "      <td>laplacian2d</td>\n",
       "      <td>numba_vector_function</td>\n",
       "      <td>32</td>\n",
       "      <td>32</td>\n",
       "      <td>32</td>\n",
       "      <td>True</td>\n",
       "      <td>test</td>\n",
       "      <td>5</td>\n",
       "      <td>0.002249</td>\n",
       "      <td>0.000450</td>\n",
       "      <td>0.000068</td>\n",
       "      <td>NaN</td>\n",
       "      <td>NaN</td>\n",
       "      <td>NaN</td>\n",
       "      <td>NaN</td>\n",
       "    </tr>\n",
       "    <tr>\n",
       "      <th>42</th>\n",
       "      <td>laplacian2d</td>\n",
       "      <td>numba_vector_function</td>\n",
       "      <td>32</td>\n",
       "      <td>32</td>\n",
       "      <td>32</td>\n",
       "      <td>True</td>\n",
       "      <td>test</td>\n",
       "      <td>5</td>\n",
       "      <td>0.002268</td>\n",
       "      <td>0.000454</td>\n",
       "      <td>0.000060</td>\n",
       "      <td>NaN</td>\n",
       "      <td>NaN</td>\n",
       "      <td>numpy</td>\n",
       "      <td>1.0</td>\n",
       "    </tr>\n",
       "  </tbody>\n",
       "</table>\n",
       "</div>"
      ],
      "text/plain": [
       "   stencil_name                backend  nx  ny  nz valid field_name num_iter  \\\n",
       "33   lapoflap1d                  numpy  32  32  32     -       test        5   \n",
       "34   lapoflap1d             numba_loop  32  32  32     -       test        5   \n",
       "35   lapoflap2d             numba_loop  32  32  32     -       test        5   \n",
       "36   lapoflap3d             numba_loop  32  32  32     -       test        5   \n",
       "37  laplacian3d             numba_loop  32  32  32     -       test        5   \n",
       "38  laplacian2d             numba_loop  32  32  32     -       test        5   \n",
       "39  laplacian2d             numba_loop  32  32  32  True       test        5   \n",
       "40  laplacian2d  numba_vector_function  32  32  32  True       test        5   \n",
       "41  laplacian2d  numba_vector_function  32  32  32  True       test        5   \n",
       "42  laplacian2d  numba_vector_function  32  32  32  True       test        5   \n",
       "\n",
       "    time_total   run_avg  run_stdev  run_first10  run_last10 gt4py_backend  \\\n",
       "33    0.000743  0.000149   0.000002          NaN         NaN           NaN   \n",
       "34    0.001079  0.000216   0.000045          NaN         NaN           NaN   \n",
       "35    0.003030  0.000606   0.000002          NaN         NaN           NaN   \n",
       "36    0.003760  0.000752   0.000003          NaN         NaN           NaN   \n",
       "37    0.000232  0.000046   0.000003          NaN         NaN           NaN   \n",
       "38    0.001768  0.000354   0.000010          NaN         NaN           NaN   \n",
       "39    0.001578  0.000316   0.000002          NaN         NaN           NaN   \n",
       "40    0.001786  0.000357   0.000012          NaN         NaN           NaN   \n",
       "41    0.002249  0.000450   0.000068          NaN         NaN           NaN   \n",
       "42    0.002268  0.000454   0.000060          NaN         NaN         numpy   \n",
       "\n",
       "    numba_parallel  \n",
       "33             NaN  \n",
       "34             NaN  \n",
       "35             NaN  \n",
       "36             NaN  \n",
       "37             NaN  \n",
       "38             NaN  \n",
       "39             NaN  \n",
       "40             NaN  \n",
       "41             NaN  \n",
       "42             1.0  "
      ]
     },
     "execution_count": 8,
     "metadata": {},
     "output_type": "execute_result"
    }
   ],
   "source": [
    "df_name = \"planb\" #Name of df to evaluate\n",
    "df = pd.read_pickle(\"eval/{}_result.pkl\".format(df_name))\n",
    "df.tail(10)"
   ]
  },
  {
   "cell_type": "code",
   "execution_count": 90,
   "metadata": {},
   "outputs": [
    {
     "data": {
      "image/png": "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\n",
      "text/plain": [
       "<Figure size 432x288 with 1 Axes>"
      ]
     },
     "metadata": {},
     "output_type": "display_data"
    }
   ],
   "source": [
    "sns.set(style=\"ticks\")\n",
    "\n",
    "ax = sns.barplot('backend','run_avg',data=df, ci=None)"
   ]
  },
  {
   "cell_type": "code",
   "execution_count": 47,
   "metadata": {},
   "outputs": [],
   "source": [
    "#Clear df on disk\n",
    "df_name = \"test\"\n",
    "os.remove(\"eval/{}_result.pkl\".format(df_name))"
   ]
  },
  {
   "cell_type": "markdown",
   "metadata": {},
   "source": [
    "### Evaluate Runtime\n",
    "We suspect that different number of iterations will lead to different runtime developments.\n",
    "This can be tested with the option --save_runtime. The df runtimedevelopment can afterwards be evaluated."
   ]
  },
  {
   "cell_type": "code",
   "execution_count": 64,
   "metadata": {},
   "outputs": [
    {
     "name": "stdout",
     "output_type": "stream",
     "text": [
      "<class 'pandas.core.frame.DataFrame'>\n",
      "RangeIndex: 50 entries, 0 to 49\n",
      "Data columns (total 1 columns):\n",
      " #   Column   Non-Null Count  Dtype  \n",
      "---  ------   --------------  -----  \n",
      " 0   runtime  50 non-null     float64\n",
      "dtypes: float64(1)\n",
      "memory usage: 528.0 bytes\n"
     ]
    }
   ],
   "source": [
    "df_runtime = pd.read_pickle(\"eval/runtimedevelopment.pkl\")\n",
    "df_runtime.columns = ['runtime']\n",
    "df_runtime.info()"
   ]
  },
  {
   "cell_type": "code",
   "execution_count": 65,
   "metadata": {},
   "outputs": [
    {
     "data": {
      "text/plain": [
       "<matplotlib.axes._subplots.AxesSubplot at 0x1242b7e50>"
      ]
     },
     "execution_count": 65,
     "metadata": {},
     "output_type": "execute_result"
    },
    {
     "data": {
      "image/png": "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\n",
      "text/plain": [
       "<Figure size 432x288 with 1 Axes>"
      ]
     },
     "metadata": {
      "needs_background": "light"
     },
     "output_type": "display_data"
    }
   ],
   "source": [
    "df_runtime.plot()"
   ]
  },
  {
   "cell_type": "code",
   "execution_count": null,
   "metadata": {},
   "outputs": [],
   "source": []
  }
 ],
 "metadata": {
  "kernelspec": {
   "display_name": "HPC4WC_kernel",
   "language": "python",
   "name": "hpc4wc_kernel"
  },
  "language_info": {
   "codemirror_mode": {
    "name": "ipython",
    "version": 3
   },
   "file_extension": ".py",
   "mimetype": "text/x-python",
   "name": "python",
   "nbconvert_exporter": "python",
   "pygments_lexer": "ipython3",
   "version": "3.6.5"
  }
 },
 "nbformat": 4,
 "nbformat_minor": 4
}
                                                                                                                                                                                                                                                                                                                                                                                                                                                                                                                                                                                                                                                                                                                                                                                                        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\n",
      "text/plain": [
       "<Figure size 720x360 with 1 Axes>"
      ]
     },
     "metadata": {
      "needs_background": "light"
     },
     "output_type": "display_data"
    },
    {
     "data": {
      "image/png": "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\n",
      "text/plain": [
       "<Figure size 720x360 with 1 Axes>"
      ]
     },
     "metadata": {
      "needs_background": "light"
     },
     "output_type": "display_data"
    },
    {
     "data": {
      "image/png": "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\n",
      "text/plain": [
       "<Figure size 720x360 with 1 Axes>"
      ]
     },
     "metadata": {
      "needs_background": "light"
     },
     "output_type": "display_data"
    }
   ],
   "source": [
    "\n",
    "df_name = \"val_1\" #Name of df to evaluate\n",
    "df = pd.read_pickle(\"eval/{}_result.pkl\".format(df_name))\n",
    "df.tail(10)\n",
    "\n",
    "df16=df.loc[df[\"nx\"]==16]\n",
    "plt.figure(figsize=(10,5))\n",
    "chart=sns.barplot(x=\"stencil_name\", y=\"run_avg\", hue=\"backend\",data=df16, ci=False)\n",
    "chart.set_xticklabels(chart.get_xticklabels(), rotation=45)\n",
    "chart.legend(loc='upper left')\n",
    "\n",
    "\n",
    "df32=df.loc[df[\"nx\"]==32]\n",
    "plt.figure(figsize=(10,5))\n",
    "chart=sns.barplot(x=\"stencil_name\", y=\"run_avg\", hue=\"backend\",data=df32, ci=False)\n",
    "chart.set_xticklabels(chart.get_xticklabels(), rotation=45)\n",
    "chart.legend(loc='upper left')\n",
    "\n",
    "df64=df.loc[df[\"nx\"]==64]\n",
    "plt.figure(figsize=(10,5))\n",
    "chart=sns.barplot(x=\"stencil_name\", y=\"run_avg\", hue=\"backend\",data=df64, ci=False)\n",
    "chart.set_xticklabels(chart.get_xticklabels(), rotation=45)\n",
    "chart.legend(loc='upper left')"
   ]
  },
  {
   "cell_type": "code",
   "execution_count": 89,
   "metadata": {},
   "outputs": [
    {
     "name": "stdout",
     "output_type": "stream",
     "text": [
      "(48, 5)\n"
     ]
    },
    {
     "data": {
      "image/png": "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\n",
      "text/plain": [
       "<Figure size 720x360 with 1 Axes>"
      ]
     },
     "metadata": {
      "needs_background": "light"
     },
     "output_type": "display_data"
    }
   ],
   "source": [
    "#############first try to add error bars. \n",
    "#the location of the bars is still wrong since the rows get ordered differently when .groupby is applied. \n",
    "#also I had to add data points for gt4py and numba_stencil where the function do not yet work.\n",
    "#but this would be an option to get the error bars on top of everything.\n",
    "#https://stackoverflow.com/questions/62820959/use-precalculated-error-bars-with-seaborn-and-barplot\n",
    "#https://matplotlib.org/gallery/lines_bars_and_markers/errorbar_limits_simple.html#sphx-glr-gallery-lines-bars-and-markers-errorbar-limits-simple-py\n",
    "\n",
    "df_name = \"val_1\" #Name of df to evaluate\n",
    "df = pd.read_pickle(\"eval/{}_result.pkl\".format(df_name))\n",
    "df.tail(10)\n",
    "\n",
    "df16=df.loc[df[\"nx\"]==16]\n",
    "plt.figure(figsize=(10,5))\n",
    "chart =sns.barplot(x=\"stencil_name\", y=\"run_avg\", hue=\"backend\",data=df16, ci=False)\n",
    "chart.set_xticklabels(chart.get_xticklabels(), rotation=45)\n",
    "chart.legend(loc='upper left')\n",
    "\n",
    "conc2=[0,0,0,0,0,0,1,1,1,1,1,1,2,2,2,2,2,2,3,3,3,3,3,3,4,4,4,4,4,4,5,5,5,5,5,5,6,6,6,6,6,6,7,7,7,7,7,7]\n",
    "width = .25\n",
    "add = [-2.5*width, -1.5*width, -0.5*width, 0.5*width , 1.5*width, 2.5*width, -2.5*width, -1.5*width, -0.5*width, 0.5*width , 1.5*width, 2.5*width,\n",
    "       -2.5*width, -1.5*width, -0.5*width, 0.5*width , 1.5*width, 2.5*width,-2.5*width, -1.5*width, -0.5*width, 0.5*width , 1.5*width, 2.5*width,\n",
    "       -2.5*width, -1.5*width, -0.5*width, 0.5*width , 1.5*width, 2.5*width,-2.5*width, -1.5*width, -0.5*width, 0.5*width , 1.5*width, 2.5*width,\n",
    "       -2.5*width, -1.5*width, -0.5*width, 0.5*width , 1.5*width, 2.5*width,-2.5*width, -1.5*width, -0.5*width, 0.5*width , 1.5*width, 2.5*width,\n",
    "      ]\n",
    "x = np.array(conc2)+np.array(add)\n",
    "#print(x)\n",
    "\n",
    "df16_stdev=df16.groupby(['stencil_name','backend']).mean()\n",
    "df16_stdev=df16_stdev.append(df16_stdev[-4:-1])\n",
    "#print(df16_stdev)\n",
    "print(df16_stdev.shape)\n",
    "plt.errorbar(x = x, y = df16_stdev['run_avg'],\n",
    "            yerr = df16_stdev['run_stdev'],\n",
    "             fmt='none', c= 'black', capsize = 2\n",
    "            )\n",
    "plt.show()\n"
   ]
  },
  {
   "cell_type": "code",
   "execution_count": 47,
   "metadata": {},
   "outputs": [],
   "source": [
    "#Clear df on disk\n",
    "df_name = \"test\"\n",
    "os.remove(\"eval/{}_result.pkl\".format(df_name))"
   ]
  },
  {
   "cell_type": "markdown",
   "metadata": {},
   "source": [
    "### Evaluate Runtime\n",
    "We suspect that different number of iterations will lead to different runtime developments.\n",
    "This can be tested with the option --save_runtime. The df runtimedevelopment can afterwards be evaluated."
   ]
  },
  {
   "cell_type": "code",
   "execution_count": 64,
   "metadata": {},
   "outputs": [
    {
     "name": "stdout",
     "output_type": "stream",
     "text": [
      "<class 'pandas.core.frame.DataFrame'>\n",
      "RangeIndex: 50 entries, 0 to 49\n",
      "Data columns (total 1 columns):\n",
      " #   Column   Non-Null Count  Dtype  \n",
      "---  ------   --------------  -----  \n",
      " 0   runtime  50 non-null     float64\n",
      "dtypes: float64(1)\n",
      "memory usage: 528.0 bytes\n"
     ]
    }
   ],
   "source": [
    "df_runtime = pd.read_pickle(\"eval/runtimedevelopment.pkl\")\n",
    "df_runtime.columns = ['runtime']\n",
    "df_runtime.info()"
   ]
  },
  {
   "cell_type": "code",
   "execution_count": 65,
   "metadata": {},
   "outputs": [
    {
     "data": {
      "text/plain": [
       "<matplotlib.axes._subplots.AxesSubplot at 0x1242b7e50>"
      ]
     },
     "execution_count": 65,
     "metadata": {},
     "output_type": "execute_result"
    },
    {
     "data": {
      "image/png": "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\n",
      "text/plain": [
       "<Figure size 432x288 with 1 Axes>"
      ]
     },
     "metadata": {
      "needs_background": "light"
     },
     "output_type": "display_data"
    }
   ],
   "source": [
    "df_runtime.plot()"
   ]
  },
  {
   "cell_type": "code",
   "execution_count": null,
   "metadata": {},
   "outputs": [],
   "source": []
  }
 ],
 "metadata": {
  "kernelspec": {
   "display_name": "HPC4WC_kernel",
   "language": "python",
   "name": "hpc4wc_kernel"
  },
  "language_info": {
   "codemirror_mode": {
    "name": "ipython",
    "version": 3
   },
   "file_extension": ".py",
   "mimetype": "text/x-python",
   "name": "python",
   "nbconvert_exporter": "python",
   "pygments_lexer": "ipython3",
   "version": "3.6.5"
  }
 },
 "nbformat": 4,
 "nbformat_minor": 4
}
